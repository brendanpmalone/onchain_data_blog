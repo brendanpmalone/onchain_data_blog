{
 "cells": [
  {
   "cell_type": "code",
   "execution_count": 1,
   "id": "77e14a29-e4e9-466a-bd3f-38f27b571e4f",
   "metadata": {},
   "outputs": [],
   "source": [
    "import os\n",
    "import datetime as dt\n",
    "import pandas as pd\n",
    "import numpy as np\n",
    "import seaborn as sn\n",
    "import matplotlib.pyplot as plt"
   ]
  },
  {
   "cell_type": "code",
   "execution_count": 5,
   "id": "f7fe8305-fec8-4d9e-a965-04100c6eb17c",
   "metadata": {},
   "outputs": [],
   "source": [
    "os.chdir('/Users/brendan/Data Projects/clean_data/mb_monthly')\n",
    "df = pd.read_csv(\"mb_stablecoins_082019.csv.gz\", compression=\"gzip\", low_memory=False, index_col=None, header=0)\n"
   ]
  },
  {
   "cell_type": "code",
   "execution_count": 13,
   "id": "3316f0ca-33b8-4dc3-97bd-178d54210bf0",
   "metadata": {},
   "outputs": [],
   "source": [
    "df['hour'] = pd.DatetimeIndex(df['block_timestamp']).hour\n",
    "df['day'] = pd.DatetimeIndex(df['block_timestamp']).day\n",
    "df['weekday'] = pd.DatetimeIndex(df['block_timestamp']).dayofweek\n",
    "df['month'] = pd.DatetimeIndex(df['block_timestamp']).month\n",
    "df['year'] = pd.DatetimeIndex(df['block_timestamp']).year"
   ]
  },
  {
   "cell_type": "code",
   "execution_count": 6,
   "id": "a0f787a0-d316-48af-8a6a-1c8beb2969e0",
   "metadata": {},
   "outputs": [
    {
     "data": {
      "text/html": [
       "<div>\n",
       "<style scoped>\n",
       "    .dataframe tbody tr th:only-of-type {\n",
       "        vertical-align: middle;\n",
       "    }\n",
       "\n",
       "    .dataframe tbody tr th {\n",
       "        vertical-align: top;\n",
       "    }\n",
       "\n",
       "    .dataframe thead th {\n",
       "        text-align: right;\n",
       "    }\n",
       "</style>\n",
       "<table border=\"1\" class=\"dataframe\">\n",
       "  <thead>\n",
       "    <tr style=\"text-align: right;\">\n",
       "      <th></th>\n",
       "      <th>log_index</th>\n",
       "      <th>transaction_index</th>\n",
       "      <th>transaction_hash</th>\n",
       "      <th>block_number</th>\n",
       "      <th>block_hash</th>\n",
       "      <th>block_timestamp</th>\n",
       "      <th>miner</th>\n",
       "      <th>block_size</th>\n",
       "      <th>gas_used</th>\n",
       "      <th>gas_limit</th>\n",
       "      <th>...</th>\n",
       "      <th>data</th>\n",
       "      <th>topic_1</th>\n",
       "      <th>topic_2</th>\n",
       "      <th>action</th>\n",
       "      <th>hour</th>\n",
       "      <th>day</th>\n",
       "      <th>weekday</th>\n",
       "      <th>month</th>\n",
       "      <th>year</th>\n",
       "      <th>amount_usd</th>\n",
       "    </tr>\n",
       "    <tr>\n",
       "      <th>topic_0</th>\n",
       "      <th></th>\n",
       "      <th></th>\n",
       "      <th></th>\n",
       "      <th></th>\n",
       "      <th></th>\n",
       "      <th></th>\n",
       "      <th></th>\n",
       "      <th></th>\n",
       "      <th></th>\n",
       "      <th></th>\n",
       "      <th></th>\n",
       "      <th></th>\n",
       "      <th></th>\n",
       "      <th></th>\n",
       "      <th></th>\n",
       "      <th></th>\n",
       "      <th></th>\n",
       "      <th></th>\n",
       "      <th></th>\n",
       "      <th></th>\n",
       "      <th></th>\n",
       "    </tr>\n",
       "  </thead>\n",
       "  <tbody>\n",
       "  </tbody>\n",
       "</table>\n",
       "<p>0 rows × 23 columns</p>\n",
       "</div>"
      ],
      "text/plain": [
       "Empty DataFrame\n",
       "Columns: [log_index, transaction_index, transaction_hash, block_number, block_hash, block_timestamp, miner, block_size, gas_used, gas_limit, base_fee_per_gas, contract_address, stablecoin, data, topic_1, topic_2, action, hour, day, weekday, month, year, amount_usd]\n",
       "Index: []\n",
       "\n",
       "[0 rows x 23 columns]"
      ]
     },
     "execution_count": 6,
     "metadata": {},
     "output_type": "execute_result"
    }
   ],
   "source": [
    "df.head()\n",
    "df.groupby(['topic_0']).count()"
   ]
  },
  {
   "cell_type": "code",
   "execution_count": 15,
   "id": "c0a92547-04c8-4fd4-80d1-ec983fcd85d5",
   "metadata": {},
   "outputs": [],
   "source": [
    "df_heat = df[['stablecoin','topic_0','amount_usd','hour','day','weekday','month','year']].copy()"
   ]
  },
  {
   "cell_type": "code",
   "execution_count": 16,
   "id": "e9cf9ae0-c4fe-4e45-aad5-5b7f2c119527",
   "metadata": {},
   "outputs": [
    {
     "data": {
      "text/html": [
       "<div>\n",
       "<style scoped>\n",
       "    .dataframe tbody tr th:only-of-type {\n",
       "        vertical-align: middle;\n",
       "    }\n",
       "\n",
       "    .dataframe tbody tr th {\n",
       "        vertical-align: top;\n",
       "    }\n",
       "\n",
       "    .dataframe thead th {\n",
       "        text-align: right;\n",
       "    }\n",
       "</style>\n",
       "<table border=\"1\" class=\"dataframe\">\n",
       "  <thead>\n",
       "    <tr style=\"text-align: right;\">\n",
       "      <th></th>\n",
       "      <th>stablecoin</th>\n",
       "      <th>topic_0</th>\n",
       "      <th>amount_usd</th>\n",
       "      <th>hour</th>\n",
       "      <th>day</th>\n",
       "      <th>weekday</th>\n",
       "      <th>month</th>\n",
       "      <th>year</th>\n",
       "    </tr>\n",
       "  </thead>\n",
       "  <tbody>\n",
       "    <tr>\n",
       "      <th>0</th>\n",
       "      <td>USDC</td>\n",
       "      <td>burn</td>\n",
       "      <td>4290378.43</td>\n",
       "      <td>12</td>\n",
       "      <td>11</td>\n",
       "      <td>2</td>\n",
       "      <td>5</td>\n",
       "      <td>2022</td>\n",
       "    </tr>\n",
       "    <tr>\n",
       "      <th>1</th>\n",
       "      <td>USDC</td>\n",
       "      <td>burn</td>\n",
       "      <td>236.17</td>\n",
       "      <td>8</td>\n",
       "      <td>11</td>\n",
       "      <td>2</td>\n",
       "      <td>5</td>\n",
       "      <td>2022</td>\n",
       "    </tr>\n",
       "    <tr>\n",
       "      <th>2</th>\n",
       "      <td>USDC</td>\n",
       "      <td>mint</td>\n",
       "      <td>5066.03</td>\n",
       "      <td>20</td>\n",
       "      <td>11</td>\n",
       "      <td>2</td>\n",
       "      <td>5</td>\n",
       "      <td>2022</td>\n",
       "    </tr>\n",
       "    <tr>\n",
       "      <th>3</th>\n",
       "      <td>USDC</td>\n",
       "      <td>burn</td>\n",
       "      <td>34829.15</td>\n",
       "      <td>23</td>\n",
       "      <td>11</td>\n",
       "      <td>2</td>\n",
       "      <td>5</td>\n",
       "      <td>2022</td>\n",
       "    </tr>\n",
       "    <tr>\n",
       "      <th>4</th>\n",
       "      <td>USDC</td>\n",
       "      <td>mint</td>\n",
       "      <td>12402399.16</td>\n",
       "      <td>20</td>\n",
       "      <td>11</td>\n",
       "      <td>2</td>\n",
       "      <td>5</td>\n",
       "      <td>2022</td>\n",
       "    </tr>\n",
       "  </tbody>\n",
       "</table>\n",
       "</div>"
      ],
      "text/plain": [
       "  stablecoin topic_0   amount_usd  hour  day  weekday  month  year\n",
       "0       USDC    burn   4290378.43    12   11        2      5  2022\n",
       "1       USDC    burn       236.17     8   11        2      5  2022\n",
       "2       USDC    mint      5066.03    20   11        2      5  2022\n",
       "3       USDC    burn     34829.15    23   11        2      5  2022\n",
       "4       USDC    mint  12402399.16    20   11        2      5  2022"
      ]
     },
     "execution_count": 16,
     "metadata": {},
     "output_type": "execute_result"
    }
   ],
   "source": [
    "df_heat.head()"
   ]
  },
  {
   "cell_type": "code",
   "execution_count": 20,
   "id": "a2325974-720c-4e78-9c52-c8fb67d8f481",
   "metadata": {},
   "outputs": [
    {
     "data": {
      "image/png": "[encoded data removed]",
      "text/plain": [
       "<Figure size 1080x576 with 2 Axes>"
      ]
     },
     "metadata": {},
     "output_type": "display_data"
    }
   ],
   "source": [
    "# generic heat map function \n",
    "\n",
    "\n",
    "df1 = df[df['topic_0'].isin(['mint'])]\n",
    "df2 = df1[['hour', 'weekday','amount_usd']]\n",
    "days = pd.DataFrame(df1['weekday'].unique())\n",
    "\n",
    "heatmap_pt = pd.pivot_table(df2, values='amount_usd', \n",
    "index=['hour'], \n",
    "columns='weekday')\n",
    "\n",
    "fig, ax = plt.subplots(figsize=(15,8))\n",
    "\n",
    "sn.set()\n",
    "ax = sn.heatmap(heatmap_pt, cmap=\"Greens\")\n",
    "ax.invert_yaxis()\n",
    "plt.show()\n",
    "\n"
   ]
  },
  {
   "cell_type": "code",
   "execution_count": null,
   "id": "80ab08ad-91fa-4e7d-a83c-f94ecc5d8476",
   "metadata": {},
   "outputs": [],
   "source": []
  }
 ],
 "metadata": {
  "kernelspec": {
   "display_name": ".venv",
   "language": "python",
   "name": "python3"
  },
  "language_info": {
   "codemirror_mode": {
    "name": "ipython",
    "version": 3
   },
   "file_extension": ".py",
   "mimetype": "text/x-python",
   "name": "python",
   "nbconvert_exporter": "python",
   "pygments_lexer": "ipython3",
   "version": "3.10.8 (main, Oct 13 2022, 09:48:40) [Clang 14.0.0 (clang-1400.0.29.102)]"
  },
  "vscode": {
   "interpreter": {
    "hash": "26ee8df6f297df1a23d4c60f9557a007d34d4e925d54ca431b393a379cd69b0f"
   }
  }
 },
 "nbformat": 4,
 "nbformat_minor": 5
}
